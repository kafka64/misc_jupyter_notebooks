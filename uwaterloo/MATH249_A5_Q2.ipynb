{
  "cells": [
    {
      "cell_type": "code",
      "execution_count": null,
      "id": "8e6c9b1f-83af-4d83-8792-8de9c330cec0",
      "metadata": {
        "id": "8e6c9b1f-83af-4d83-8792-8de9c330cec0"
      },
      "outputs": [],
      "source": [
        "def c(s):\n",
        "    w = 0\n",
        "    a = 0\n",
        "    t = 0\n",
        "    e = 0\n",
        "    r = 0\n",
        "    l = 0\n",
        "    o = 0\n",
        "    x = True\n",
        "    o_2 = 0\n",
        "\n",
        "\n",
        "    for i in range(0, len(s)):\n",
        "        if s[i] == 'w':\n",
        "            w = w + 1\n",
        "        elif s[i] == 'a':\n",
        "            a = a + w\n",
        "        elif s[i] == 't':\n",
        "            t = t + a\n",
        "        elif s[i] == 'e':\n",
        "            e = e + t\n",
        "        elif s[i] == 'r':\n",
        "            r = r + e\n",
        "        elif s[i] == 'l':\n",
        "            l = l + r\n",
        "        elif s[i] == 'o':\n",
        "            if x:\n",
        "                x = False\n",
        "            else:\n",
        "                o_2 = o_2 + o\n",
        "            o = o + l\n",
        "    return o_2"
      ]
    },
    {
      "cell_type": "code",
      "execution_count": null,
      "id": "27128040-5f3d-42cc-8476-6786fbbdae79",
      "metadata": {
        "id": "27128040-5f3d-42cc-8476-6786fbbdae79"
      },
      "outputs": [],
      "source": [
        "# basic sanity check\n",
        "\n",
        "assert c('waterlo') == 0\n",
        "assert c('waterloo') == 1\n",
        "assert c('aterloowaterloo') == 1\n",
        "assert c('wwaterloo') == 2\n",
        "assert c('waaterrloo') == 4\n",
        "assert c('waterlooo') == 3"
      ]
    },
    {
      "cell_type": "code",
      "execution_count": null,
      "id": "709e63a6-6aa1-4c87-bde1-059968e78c27",
      "metadata": {
        "id": "709e63a6-6aa1-4c87-bde1-059968e78c27",
        "outputId": "f52d1eb2-cc5b-41ea-b290-c033f0257e8c"
      },
      "outputs": [
        {
          "name": "stdout",
          "output_type": "stream",
          "text": [
            "11461131697341213244915712.0000000000000000000000000\n",
            "11403672671350719854411776.0000000000000000000000000\n"
          ]
        }
      ],
      "source": [
        "import random\n",
        "import string\n",
        "import numpy as np\n",
        "\n",
        "from statistics import mean\n",
        "from math import comb\n",
        "\n",
        "\n",
        "def avg(n):\n",
        "  return comb(n,8) / 26 ** 8\n",
        "\n",
        "def ta(n,t):\n",
        "  l = []\n",
        "  for _ in range(n):\n",
        "    l.append(c(np.array([random.choice(string.ascii_lowercase) for _ in range(t)])))\n",
        "  return mean(l)\n",
        "\n",
        "print(f'{ta(100,132680):.25f}')\n",
        "print(f'{avg(132680):.25f}')\n",
        "  "
      ]
    },
    {
      "cell_type": "markdown",
      "id": "4eab6213-f745-4f49-969f-e7411d5a8067",
      "metadata": {
        "id": "4eab6213-f745-4f49-969f-e7411d5a8067"
      },
      "source": [
        "So random strings do seem to contain WATERLOO as often as we expected. "
      ]
    },
    {
      "cell_type": "markdown",
      "id": "e51d6ee2-a25a-4019-aee5-6198771a748c",
      "metadata": {
        "id": "e51d6ee2-a25a-4019-aee5-6198771a748c"
      },
      "source": [
        "Now let's try our hands on Hamlet"
      ]
    },
    {
      "cell_type": "code",
      "execution_count": null,
      "id": "9086916f-005e-45dc-af97-a7284d823964",
      "metadata": {
        "id": "9086916f-005e-45dc-af97-a7284d823964"
      },
      "outputs": [],
      "source": [
        "import urllib\n",
        "import re\n",
        "\n",
        "h = urllib.request.urlopen(\"https://gist.githubusercontent.com/provpup/2fc41686eab7400b796b/raw/b575bd01a58494dfddc1d6429ef0167e709abf9b/hamlet.txt\")\n",
        "h = h.read()\n",
        "h = h.decode(\"utf-8\")\n",
        "regex = re.compile('[^a-zA-Z]')\n",
        "h = regex.sub('', h)\n",
        "h = h.lower()\n"
      ]
    },
    {
      "cell_type": "code",
      "execution_count": null,
      "id": "6a7ba527-b1f8-403e-aea1-3ac759d13abd",
      "metadata": {
        "id": "6a7ba527-b1f8-403e-aea1-3ac759d13abd",
        "outputId": "ccf77d9f-bf46-4019-8e16-4c744a40ebc1"
      },
      "outputs": [
        {
          "data": {
            "text/plain": [
              "130135"
            ]
          },
          "execution_count": 85,
          "metadata": {},
          "output_type": "execute_result"
        }
      ],
      "source": [
        "len(h)"
      ]
    },
    {
      "cell_type": "markdown",
      "id": "84558cf0-05dd-4d2b-93af-e8ef5fb6a50a",
      "metadata": {
        "id": "84558cf0-05dd-4d2b-93af-e8ef5fb6a50a"
      },
      "source": [
        "This version of Hamlet is somewhat shorter than expected :p"
      ]
    },
    {
      "cell_type": "code",
      "execution_count": null,
      "id": "bf7eb56d-aa76-4772-b229-4a81268e5a85",
      "metadata": {
        "id": "bf7eb56d-aa76-4772-b229-4a81268e5a85",
        "outputId": "b394e6cd-d0c4-47d0-da72-b95a30146319"
      },
      "outputs": [
        {
          "name": "stdout",
          "output_type": "stream",
          "text": [
            "671538513081564733020901249\n",
            "68.75728915700326\n"
          ]
        }
      ],
      "source": [
        "print(c(h))\n",
        "print(c(h)/avg(len(h)))"
      ]
    },
    {
      "cell_type": "markdown",
      "id": "92426407-7de4-409e-9c1d-80f0dd69cadd",
      "metadata": {
        "id": "92426407-7de4-409e-9c1d-80f0dd69cadd"
      },
      "source": [
        "That is about 70 times more WATERLOO than what we expected. Maybe it is because of letter frequency of English [0]?\n",
        "For sure most texts would not contain as many Zs as Es...\n",
        "\n",
        "Now let's see what happens when we experiment with slightly more realistic distribution of alphabets\n",
        "\n",
        "[0] https://www3.nd.edu/~busiforc/handouts/cryptography/letterfrequencies.html"
      ]
    },
    {
      "cell_type": "code",
      "execution_count": null,
      "id": "b4cd27fd-b275-4aed-89d7-a3e1484a1c58",
      "metadata": {
        "id": "b4cd27fd-b275-4aed-89d7-a3e1484a1c58",
        "outputId": "1fdb98cd-4e39-445b-8e50-37644ca070f6"
      },
      "outputs": [
        {
          "name": "stdout",
          "output_type": "stream",
          "text": [
            "671538513081564733020901249\n",
            "433013491352115525009276928.0000000000000000000000000\n"
          ]
        }
      ],
      "source": [
        "import numpy as np\n",
        "\n",
        "def ta2(n,t):\n",
        "  l = []\n",
        "  a = list('eariotnslcudpmhgbfywkvxzjq')\n",
        "  P = [0.1116,0.085,0.0758,0.0754,0.0716,0.0695,0.0665,0.0574,0.054900000000000004,0.0454,0.0363,0.0338,0.0317,0.0301,0.03,0.024700000000000003,0.0207,0.0181,0.0178,0.0129,0.011000000000000001,0.0101,0.0029,0.0027,0.002,0.002]\n",
        "  P = np.array(P)\n",
        "  P = P/P.sum()\n",
        "  for _ in range(n):\n",
        "    l.append(c(np.array([np.random.choice(a,p=P) for _ in range(t)])))\n",
        "  return mean(l)\n",
        "\n",
        "print(c(h))\n",
        "print(f'{ta2(20,132680):.25f}')"
      ]
    },
    {
      "cell_type": "markdown",
      "id": "49507699-39e0-4556-abcc-5143e67060c2",
      "metadata": {
        "id": "49507699-39e0-4556-abcc-5143e67060c2"
      },
      "source": [
        "We are getting there but there is one more bias in human language : surely letters do not appear independently from each other.\n",
        "\n",
        "So we shuffle the text of Hamlet :"
      ]
    },
    {
      "cell_type": "code",
      "execution_count": null,
      "id": "1e9f241a-acfb-4e59-9439-77905cd48dd9",
      "metadata": {
        "id": "1e9f241a-acfb-4e59-9439-77905cd48dd9",
        "outputId": "385112af-c353-4aee-f111-ceb62d99a72d"
      },
      "outputs": [
        {
          "name": "stdout",
          "output_type": "stream",
          "text": [
            "782135088086677818427047936.0000000000000000000000000\n"
          ]
        }
      ],
      "source": [
        "L = []\n",
        "for _ in range(20):\n",
        "    l = list(h)\n",
        "    random.shuffle(l)\n",
        "    hr = ''.join(l)\n",
        "    L.append(c(hr))\n",
        "ahr = mean(L)\n",
        "print(f'{ahr:.25f}')"
      ]
    },
    {
      "cell_type": "markdown",
      "id": "6b378b62-b481-416f-b047-e2e2367d8b2d",
      "metadata": {
        "id": "6b378b62-b481-416f-b047-e2e2367d8b2d"
      },
      "source": [
        "And we try to take account for actual letter frequencies of Hamelet"
      ]
    },
    {
      "cell_type": "code",
      "execution_count": null,
      "id": "647dd83f-5987-4886-ade2-cc30b2a46ec9",
      "metadata": {
        "id": "647dd83f-5987-4886-ade2-cc30b2a46ec9",
        "outputId": "fae83541-13f4-40ca-bfad-5b8e4094e167"
      },
      "outputs": [
        {
          "name": "stdout",
          "output_type": "stream",
          "text": [
            "dict_items([('t', 11863), ('h', 8731), ('e', 14960), ('r', 7777), ('a', 9950), ('g', 2420), ('d', 5025), ('y', 3204), ('o', 11218), ('f', 2698), ('m', 4253), ('l', 5847), ('p', 2016), ('i', 8511), ('n', 8297), ('c', 2606), ('k', 1272), ('b', 1830), ('w', 3132), ('s', 8379), ('u', 4343), ('v', 1222), ('z', 72), ('q', 220), ('x', 179), ('j', 110)])\n"
          ]
        }
      ],
      "source": [
        "from collections import Counter\n",
        "counts=Counter(h)\n",
        "print(counts.items())\n"
      ]
    },
    {
      "cell_type": "code",
      "execution_count": null,
      "id": "79096503-c139-41c1-a968-537d07fe1991",
      "metadata": {
        "id": "79096503-c139-41c1-a968-537d07fe1991",
        "outputId": "dfc18a97-15a5-4fec-ff17-a64891ae0712"
      },
      "outputs": [
        {
          "name": "stdout",
          "output_type": "stream",
          "text": [
            "['t', 'h', 'e', 'r', 'a', 'g', 'd', 'y', 'o', 'f', 'm', 'l', 'p', 'i', 'n', 'c', 'k', 'b', 'w', 's', 'u', 'v', 'z', 'q', 'x', 'j']\n",
            "[0.0911591808506551, 0.06709186613900948, 0.11495754408883083, 0.059761017405002496, 0.07645906174357398, 0.01859607330848734, 0.03861374726245822, 0.024620586314212163, 0.08620278941099627, 0.020732316440619358, 0.032681446190494484, 0.04493026472509317, 0.015491604871863834, 0.0654013140200561, 0.06375686786798325, 0.0200253582817843, 0.009774464978675991, 0.014062319898566872, 0.0240673147116456, 0.06438698274868405, 0.033373035693702695, 0.009390248588004765, 0.0005532716025665655, 0.0016905521189533946, 0.0013754946786029892, 0.0008452760594766973]\n"
          ]
        }
      ],
      "source": [
        "a2 = []\n",
        "p2 = []\n",
        "for p in counts.items():\n",
        "    a2 = a2 + [p[0]]\n",
        "    p2 = p2 + [p[1]/len(h)]\n",
        "print(a2)\n",
        "print(p2)"
      ]
    },
    {
      "cell_type": "markdown",
      "id": "1ffdc26d-ed3d-4d5c-99da-ef8c0e296803",
      "metadata": {
        "id": "1ffdc26d-ed3d-4d5c-99da-ef8c0e296803"
      },
      "source": [
        "And generate random strings based on that"
      ]
    },
    {
      "cell_type": "code",
      "execution_count": null,
      "id": "d33e89b7-1556-4120-9514-4851f5620168",
      "metadata": {
        "id": "d33e89b7-1556-4120-9514-4851f5620168",
        "outputId": "7bd193aa-1ed3-45fe-fb60-d0087a84405a"
      },
      "outputs": [
        {
          "name": "stdout",
          "output_type": "stream",
          "text": [
            "782135088086677818427047936.0000000000000000000000000\n",
            "780735900078762857437593600.0000000000000000000000000\n"
          ]
        }
      ],
      "source": [
        "def ta3(n,t):\n",
        "  l = []\n",
        "  P = p2\n",
        "  P = np.array(P)\n",
        "  P = P/P.sum()\n",
        "  for _ in range(n):\n",
        "    l.append(c(np.array([np.random.choice(a2,p=P) for _ in range(t)])))\n",
        "  return mean(l)\n",
        "\n",
        "print(f'{ahr:.25f}')\n",
        "print(f'{ta3(50,len(h)):.25f}')"
      ]
    },
    {
      "cell_type": "markdown",
      "id": "df9b709e-a7cf-4113-a14c-50dca4f1ea09",
      "metadata": {
        "id": "df9b709e-a7cf-4113-a14c-50dca4f1ea09"
      },
      "source": [
        "Aaaannnnd that is close enough for me"
      ]
    },
    {
      "cell_type": "code",
      "execution_count": null,
      "id": "c0fb4d4b-1339-45f8-8141-2d5049c4b77a",
      "metadata": {
        "id": "c0fb4d4b-1339-45f8-8141-2d5049c4b77a"
      },
      "outputs": [],
      "source": []
    }
  ],
  "metadata": {
    "kernelspec": {
      "display_name": "Python 3",
      "language": "python",
      "name": "python3"
    },
    "language_info": {
      "codemirror_mode": {
        "name": "ipython",
        "version": 3
      },
      "file_extension": ".py",
      "mimetype": "text/x-python",
      "name": "python",
      "nbconvert_exporter": "python",
      "pygments_lexer": "ipython3",
      "version": "3.10.6"
    },
    "colab": {
      "provenance": []
    }
  },
  "nbformat": 4,
  "nbformat_minor": 5
}